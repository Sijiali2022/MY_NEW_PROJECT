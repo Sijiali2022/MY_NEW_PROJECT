{
  "nbformat": 4,
  "nbformat_minor": 0,
  "metadata": {
    "colab": {
      "provenance": []
    },
    "kernelspec": {
      "name": "python3",
      "display_name": "Python 3"
    },
    "language_info": {
      "name": "python"
    }
  },
  "cells": [
    {
      "cell_type": "code",
      "source": [
        "!apt-get install openjdk-8-jdk-headless -qq > /dev/null"
      ],
      "metadata": {
        "id": "naytdagydCcX"
      },
      "execution_count": 4,
      "outputs": []
    },
    {
      "cell_type": "code",
      "source": [
        "!wget -q https://dlcdn.apache.org/spark/spark-3.3.1/spark-3.3.1-bin-hadoop3.tgz"
      ],
      "metadata": {
        "id": "_uElblohdIc1"
      },
      "execution_count": 12,
      "outputs": []
    },
    {
      "cell_type": "code",
      "source": [
        "!tar xf spark-3.3.1-bin-hadoop3.tgz"
      ],
      "metadata": {
        "id": "C0R8sX_9dMb4"
      },
      "execution_count": 13,
      "outputs": []
    },
    {
      "cell_type": "code",
      "source": [
        "!pip install pyspark"
      ],
      "metadata": {
        "colab": {
          "base_uri": "https://localhost:8080/"
        },
        "id": "UdTD-0t9d5qS",
        "outputId": "b7438201-cbb2-4f4d-eda7-3ad820d17aa0"
      },
      "execution_count": 9,
      "outputs": [
        {
          "output_type": "stream",
          "name": "stdout",
          "text": [
            "Looking in indexes: https://pypi.org/simple, https://us-python.pkg.dev/colab-wheels/public/simple/\n",
            "Collecting pyspark\n",
            "  Downloading pyspark-3.3.1.tar.gz (281.4 MB)\n",
            "\u001b[K     |████████████████████████████████| 281.4 MB 45 kB/s \n",
            "\u001b[?25hCollecting py4j==0.10.9.5\n",
            "  Downloading py4j-0.10.9.5-py2.py3-none-any.whl (199 kB)\n",
            "\u001b[K     |████████████████████████████████| 199 kB 32.3 MB/s \n",
            "\u001b[?25hBuilding wheels for collected packages: pyspark\n",
            "  Building wheel for pyspark (setup.py) ... \u001b[?25l\u001b[?25hdone\n",
            "  Created wheel for pyspark: filename=pyspark-3.3.1-py2.py3-none-any.whl size=281845514 sha256=c0fb1b10dfd52ac0269f6df9fce8512cd182040716351d94c292144c5ab777dd\n",
            "  Stored in directory: /root/.cache/pip/wheels/42/59/f5/79a5bf931714dcd201b26025347785f087370a10a3329a899c\n",
            "Successfully built pyspark\n",
            "Installing collected packages: py4j, pyspark\n",
            "Successfully installed py4j-0.10.9.5 pyspark-3.3.1\n"
          ]
        }
      ]
    },
    {
      "cell_type": "code",
      "source": [
        "!pip install -q findspark"
      ],
      "metadata": {
        "id": "aKnck1XteNI4"
      },
      "execution_count": 15,
      "outputs": []
    },
    {
      "cell_type": "code",
      "source": [
        "import os\n",
        "os.environ[\"JAVA_HOME\"] = \"/usr/lib/jvm/java-8-openjdk-amd64\"\n",
        "os.environ[\"SPARK_HOME\"] = \"/content/spark-3.3.1-bin-hadoop3\"\n",
        "os.environ[\"HADOOP_HOME\"] = \"/content/spark-3.3.1-bin-hadoop3\""
      ],
      "metadata": {
        "id": "3pFUbxA9eW9R"
      },
      "execution_count": 20,
      "outputs": []
    },
    {
      "cell_type": "code",
      "source": [
        "!unzip /content/TCU.zip"
      ],
      "metadata": {
        "colab": {
          "base_uri": "https://localhost:8080/"
        },
        "id": "kx7bL79VhHml",
        "outputId": "780406c7-9d6d-4118-9bf7-33a27957c13e"
      },
      "execution_count": 18,
      "outputs": [
        {
          "output_type": "stream",
          "name": "stdout",
          "text": [
            "Archive:  /content/TCU.zip\n",
            "  inflating: TCU/103_1.txt           \n",
            "  inflating: TCU/114_1.txt           \n",
            "  inflating: TCU/132_0.txt           \n",
            "  inflating: TCU/134_1.txt           \n",
            "  inflating: TCU/141_1.txt           \n",
            "  inflating: TCU/148_4.txt           \n",
            "  inflating: TCU/149_1.txt           \n",
            "  inflating: TCU/150_6.txt           \n",
            "  inflating: TCU/153_1.txt           \n",
            "  inflating: TCU/154_0.txt           \n",
            "  inflating: TCU/157_1.txt           \n",
            "  inflating: TCU/158_0.txt           \n",
            "  inflating: TCU/160_0.txt           \n",
            "  inflating: TCU/164_8.txt           \n",
            "  inflating: TCU/17_2.txt            \n",
            "  inflating: TCU/170_1.txt           \n",
            "  inflating: TCU/172_0.txt           \n",
            "  inflating: TCU/176_0.txt           \n",
            "  inflating: TCU/18_0.txt            \n",
            "  inflating: TCU/180_2.txt           \n",
            "  inflating: TCU/21_0.txt            \n",
            "  inflating: TCU/23_1.txt            \n",
            "  inflating: TCU/24_1.txt            \n",
            "  inflating: TCU/26_2.txt            \n",
            "  inflating: TCU/28_0.txt            \n",
            "  inflating: TCU/30_1.txt            \n",
            "  inflating: TCU/31_2.txt            \n",
            "  inflating: TCU/33_1.txt            \n",
            "  inflating: TCU/34_0.txt            \n",
            "  inflating: TCU/35_0.txt            \n",
            "  inflating: TCU/38_0.txt            \n",
            "  inflating: TCU/41_1.txt            \n",
            "  inflating: TCU/42_1.txt            \n",
            "  inflating: TCU/44_0.txt            \n",
            "  inflating: TCU/45_6.txt            \n",
            "  inflating: TCU/46_1.txt            \n",
            "  inflating: TCU/47_0.txt            \n",
            "  inflating: TCU/48_1.txt            \n",
            "  inflating: TCU/50_0.txt            \n",
            "  inflating: TCU/all                 \n"
          ]
        }
      ]
    },
    {
      "cell_type": "code",
      "source": [
        "import findspark\n",
        "findspark.init()\n",
        "\n",
        "from pyspark.sql import SparkSession\n",
        "\n",
        "spark = SparkSession.builder.getOrCreate()\n",
        "\n",
        "\n",
        "def getListOfReqData(filePath, headerString):\n",
        "    myList = []\n",
        "    content = []\n",
        "    pretext = []\n",
        "    flag = True\n",
        "    with open(filePath, encoding='utf-8') as f:\n",
        "        r = 0\n",
        "        for line in f.readlines():\n",
        "            if flag == False:\n",
        "                if len(line.strip()) == 0:\n",
        "                    continue\n",
        "                else:\n",
        "                    myList.append(line.strip())\n",
        "                    flag = True\n",
        "            if len(line.strip()) != 0 and \"University\" not in line and len(myList) == 0:\n",
        "                pretext.append(line.strip())\n",
        "                continue\n",
        "            if \"University\" in line and len(pretext) != 0 and not (line.strip().endswith(\"University\") or line.strip().endswith(\"University Policy\")) and len(myList) == 0:\n",
        "                pretext.append(line.strip())\n",
        "                continue\n",
        "            if \"University\" in line and len(myList) == 0:\n",
        "                myList.append(line.strip())\n",
        "                continue\n",
        "\n",
        "            while r < len(headerString[0]):\n",
        "\n",
        "                if line.startswith(headerString[0][r]) or line.startswith(headerString[1][r]): \n",
        "                    if r == 3:\n",
        "                        myList.append(line[line.index(\":\")+1:].strip())\n",
        "                    elif len(line[line.index(\":\")+1:].strip()) != 0:\n",
        "                        myList.append(line[line.index(\":\")+1:].strip())\n",
        "                    else:\n",
        "                        flag = False\n",
        "                    r += 1\n",
        "                else: break\n",
        "\n",
        "            else:\n",
        "                if r == len(headerString[0]):\n",
        "                    r = float(\"inf\")\n",
        "                    continue        \n",
        "                if len(line.strip()) != 0:\n",
        "                    content.append(line.strip())\n",
        "\n",
        "        myList.append(\" \".join(content))\n",
        "        myList.append(\" \".join(pretext))\n",
        "        if len(myList) != 7:\n",
        "            title = pretext[0]\n",
        "            myList = [\"\", title, \"\", \"\", \"\", \"\".join(pretext[1:]), \"\"]\n",
        "\n",
        "\n",
        "    f.close()\n",
        "    return(myList)\n",
        "\n",
        "headerString =  [[\"Policy Title\",\"Policy Subject\", \"Division\", \"Policy Number\"],[\"Título de la política\", \"Asunto\", \"División\", \"Número de política\"]]\n",
        "\n",
        "#path for TCU file\n",
        "path = \"/content/TCU\"\n",
        "\n",
        "os.chdir(path)\n",
        "dataList = []\n",
        "\n",
        "\n",
        "typel = []\n",
        "for file in os.listdir():\n",
        "    data = []\n",
        "    if file.endswith(\".txt\"):\n",
        "        filePath = f\"{path}/{file}\"\n",
        "        dataElement = getListOfReqData(filePath, headerString)\n",
        "        dataElement = tuple(dataElement)\n",
        "\n",
        "        for i in dataElement:\n",
        "            if len(i) == 0:\n",
        "                data.append(\"null\")\n",
        "            else:\n",
        "                data.append(i)\n",
        "                typel.append(type(i))\n",
        "        data.append(file)\n",
        "        data = tuple(data)\n",
        "        dataList.append(data)\n",
        "\n",
        "\n",
        "DF = spark.createDataFrame(dataList,schema=['University', 'Policy Title', 'Policy Subject', 'Division', 'Policy Number', 'Content', 'pretext','filename'])\n",
        "DF.cache()\n",
        "\n",
        "DF.show(50, truncate=100)\n",
        "\n",
        "DF.repartition(1).write.format('com.databricks.spark.csv').save(\"/content/dataframe.csv\",header = 'true')\n",
        "\n"
      ],
      "metadata": {
        "colab": {
          "base_uri": "https://localhost:8080/"
        },
        "id": "MJPjdSc6hwrS",
        "outputId": "4a354f6a-ba07-4786-d1ca-1268b8ac5007"
      },
      "execution_count": 49,
      "outputs": [
        {
          "output_type": "stream",
          "name": "stdout",
          "text": [
            "+--------------------------------------+-------------------------------------------------------------------------------------+---------------------------------------------------------------------------------------+-------------------------------------------------------------------------+-----------------------------+----------------------------------------------------------------------------------------------------+----------------------------------------------------------------------------------------------------+---------+\n",
            "|                            University|                                                                         Policy Title|                                                                         Policy Subject|                                                                 Division|                Policy Number|                                                                                             Content|                                                                                             pretext| filename|\n",
            "+--------------------------------------+-------------------------------------------------------------------------------------+---------------------------------------------------------------------------------------+-------------------------------------------------------------------------+-----------------------------+----------------------------------------------------------------------------------------------------+----------------------------------------------------------------------------------------------------+---------+\n",
            "|     Texas Christian University Policy|                                                                           Sick Leave|                                              Eligibility for and accrual of sick leave|                                                          Human Resources|                        6.015|I. Applicability This policy applies to faculty and staff. II. Policy Statement and Purpose It is...|                                                                                                null| 23_1.txt|\n",
            "|     Texas Christian University Policy|                                                                   Policy on Policies|                                          Academic Affairs Policy Documentation Process|                                                         Academic Affairs|                      AA1.001|I.      Applicability This policy applies to all policies generated in and applicable to Academic...|                                                                                                null|176_0.txt|\n",
            "|     Texas Christian University Policy|                                            Employee Absence Due to Inclement Weather|                                     Managing employee absence due to inclement weather|                                                          Human Resources|                        5.008|I. Applicability This policy applies to all employees of Texas Christian University. II. Policy S...|                                                                                                null| 38_0.txt|\n",
            "|     Texas Christian University Policy|                                                                           Retirement|                                                    Eligibility for retirement programs|                                                          Human Resources|                        2.030|I. Applicability This policy applies to all employees of Texas Christian University. II. Policy S...|                                                                                                null| 47_0.txt|\n",
            "|     Texas Christian University Policy|This is the title of the policy and primary means for identifying a policy. The title|                                                                  Subject of the policy|The Division or Department responsible for issuing and maintaining policy|Policy number (if applicable)|I. Applicability This section contains information regarding the individuals and/or groups affect...|Policy Template: Guide and Formatting Do not rename, delete, or add sections to the template. Fon...|141_1.txt|\n",
            "|     Texas Christian University Policy|                                                                       Staff Vacation|                      Accrual of vacation hours for eligible exempt and nonexempt staff|                                                          Human Resources|                        6.001|I. Applicability This policy applies to all eligible Texas Christian University staff. II. Policy...|                                                                                                null| 31_2.txt|\n",
            "|     Texas Christian University Policy|                                                                Bring Your Own Device|                                              Use of personally owned computing devices|                                                   Information Technology|                         null|I. Applicability This policy applies to any user who makes a wired or wireless network connection...|                                                                                                null| 48_1.txt|\n",
            "|     Texas Christian University Policy|                                                                 Flexible Work Policy|                                   Guidelines and Policy for Flexible Work Arrangements|                                                          Human Resources|                        3.001|I.     Applicability This policy applies to all University staff and temporary employees (full an...|                                                                                                null|170_1.txt|\n",
            "|     Texas Christian University Policy|                                                                      Code of Conduct|                 Expectations and standards to guide employees in University activities|                                                          Human Resources|                        2.070|I. Applicability This policy applies to 1) individuals who are paid by the University, including ...|                                                                                                null| 45_6.txt|\n",
            "|     Texas Christian University Policy|   Prohibited Discrimination, Harassment and Related Conduct (formerly referred to as|                              Prohibited Discrimination, Harassment and Related Conduct|                                                          Human Resources|                        1.005|I. Policy Statement Texas Christian University (TCU) is committed to providing a positive learnin...|                 Conduct occurring on or before August 13, 2020 will be addressed using this policy.|114_1.txt|\n",
            "|     Texas Christian University Policy|                                                                  Data Classification|                                           Classifying administrative and academic data|                                                   Information Technology|                         null|I. Applicability This policy applies to all University employees, students, alumni, contractors, ...|                                                                                                null|103_1.txt|\n",
            "|     Texas Christian University Policy|                                                                 Firearms and Weapons|                                    Prohibition of firearms and weapons on TCU property|                                                          Human Resources|                        2.060|I. Applicability This policy applies to students, faculty and staff (employees), outside contract...|                                                                                                null| 35_0.txt|\n",
            "|     Texas Christian University Policy|                                                                    Leaves of Absence|                                Eligibility for and administration of leaves of absence|                                                          Human Resources|                        6.025|I. Applicability This policy applies to faculty and staff. II. Policy Statement and Purpose The u...|                                                                                                null| 24_1.txt|\n",
            "|     Texas Christian University Policy|                                                            Animals in TCU Facilities|                                    Regulations pertaining to animals in TCU facilities|                                                          Human Resources|                        1.007|I. Applicability This policy applies to students, employees, visitors and animals brought to TCU ...|                                                                                                null| 17_2.txt|\n",
            "|                                  null|                                   Protection of Minors: Minors on Campus – Checklist|                                                                                   null|                                                                     null|                         null|TaskDescriptionRegistrationRegister Minors onCampus ProgramRegistration is required for all* prog...|                                                                                                null|150_6.txt|\n",
            "|     Texas Christian University Policy|                                      Formulation and Issuance of University Policies|                                                                     Policy on policies|                 Division of Human Resources and the Office of Compliance|                         null|I.      Applicability This policy applies to all divisions and departments within the university....|                                                                                                null|158_0.txt|\n",
            "|     Texas Christian University Policy|                                                                             Nepotism|                 Minimizing the potential for actual or perceived conflicts of interest|                                                          Human Resources|                        2.050|I. Applicability This policy applies to all persons employed by TCU. It applies to faculty, staff...|                                                                                                null| 21_0.txt|\n",
            "|     Texas Christian University Policy|                                                                          Premium Pay|                            Compensation associated with non-traditional work schedules|                                                          Human Resources|                        5.001|I. Applicability This policy applies to all regular, non-exempt employees of Texas Christian Univ...|                                                                                                null| 30_1.txt|\n",
            "|     Texas Christian University Policy|                                                    Temporary Staff Employment Policy|                                              Guidelines for hiring temporary employees|                                                          Human Resources|                        2.004|I. Applicability This policy applies to all temporary staff employees and the departments that hi...|                                                                                                null|153_1.txt|\n",
            "|     Texas Christian University Policy|                                             Policy on Sponsored International Travel|                    Guidelines and requirements associated with university supported or|                                                         Academic Affairs|                         null|I.       Applicability This policy applies to all employees and students of Texas Christian Unive...|                                                                                                null|180_2.txt|\n",
            "|     Texas Christian University Policy|                                                     Computer Technology Acquisitions|                                         Requirements for acquiring computer technology|                                                   Information Technology|                         null|I. Applicability This policy applies to all TCU departments. II. Policy Statement and Purpose The...|                                                                                                null| 50_0.txt|\n",
            "|     Texas Christian University Policy|                       Emotional Support Animal Policy for University Residence Halls|                  Procedures and guidelines for Emotional Support Animals in University|                        Academic Affairs – Student Access & Accommodation|                         null|I.       Applicability This policy applies to Emotional Support Animals (ESAs) which may be neces...|                                                                                                null|160_0.txt|\n",
            "|     Texas Christian University Policy|                                                                 Conflict of Interest|Rules regarding conflict of interest and responsibilities of employees in resolving any|                                                          Human Resources|                        2.071|I. Applicability This policy applies to all employees of Texas Christian University. II. Policy S...|                                                                                                null| 28_0.txt|\n",
            "|     Texas Christian University Policy|                                                             Consensual Relationships|                                                 Prohibited relationships and behaviors|                                                          Human Resources|                        1.006|I. Applicability This policy applies to all employees of Texas Christian University. II. Policy S...|                                                                                                null| 41_1.txt|\n",
            "|     Texas Christian University Policy|                                                      Promotions and Transfers Policy|                        Process of applying for, and approving transfers and promotions|                                                          Human Resources|                        2.005|I. Applicability All regular TCU exempt and nonexempt staff are eligible under this policy. II. P...|                                                                                                null|154_0.txt|\n",
            "|     Texas Christian University Policy|                                                              Drug-Free Workplace Act|                           Requirements for compliance with the Drug-Free Workplace Act|                                                          Human Resources|                        2.006|I. Applicability This policy applies to all Texas Christian University employees. II. Policy Stat...|                                                                                                null| 44_0.txt|\n",
            "|     Texas Christian University Policy|                                                         Family and Medical Leave Act|                                         Administration of Family Medical and Leave Act|                                                          Human Resources|                        6.020|I. Applicability This policy applies to all eligible Texas Christian University employees. II. Po...|                                                                                                null| 33_1.txt|\n",
            "|     Texas Christian University Policy|                                             Affirmative Action and Equal Opportunity|                             Affirmative Action Plan and Equal Employment Opportunities|                                                          Human Resources|                        1.001|I. Applicability This policy applies to all employees of Texas Christian University. II. Policy S...|                                                                                                null| 18_0.txt|\n",
            "|     Texas Christian University Policy|                             Disclosure Requirements for Academic Programs Leading to|                                                       Professional Programs Disclosure|                                                         Academic Affairs|                         null|I. Applicability. This policy applies to academic programs leading to professional licensure and/...|                                                                                                null|132_0.txt|\n",
            "|Política de Texas Christian University|                                                     Política Relaciones Consensuales|                                                                Relaciones Consensuales|                                                         Recursos Humanos|                        1.006|I. Aplicabilidad Esta política se aplica a todos los empleados de Texas Christian University. II....|                                                                                                null| 42_1.txt|\n",
            "|     Texas Christian University Policy|                                                                  Paid Parental Leave|                                                    Eligibility for paid parental leave|                                                          Human Resources|                        6.010|I.      Applicability This policy applies to benefits-eligible employees. II.     Policy Statemen...|                                                                                                null|157_1.txt|\n",
            "|                                  null|                                                                 Protection of Minors|                                                                                   null|                                                                     null|                         null|Background Checks: Certification of ComplianceI understand that Texas Christian University has id...|                                                                                                null|149_1.txt|\n",
            "|     Texas Christian University Policy|                                                        Drug and Alcohol Abuse Policy|                                                                 Drug and Alcohol Abuse|                                                          Human Resources|                        2.007|I. Applicability This policy applies to all employees of Texas Christian University. II. Policy S...|                                                                                                null| 46_1.txt|\n",
            "|     Texas Christian University Policy|                               Reimbursement for University-Related Business Expenses|                Requirements and guidelines associated with University-related business|                                     Office of Finance and Administration|                         null|I.       Applicability This policy is applicable to all employees and students of Texas Christian...|                                                                                                null|164_8.txt|\n",
            "|     Texas Christian University Policy|                                                                  University Holidays|                                                    Eligibility for University holidays|                                                          Human Resources|                        6.050|I. Applicability This policy applies to faculty and staff. II. Policy Statement and Purpose It is...|                                                                                                null| 26_2.txt|\n",
            "|     Texas Christian University Policy|                                               Protection of Minors: Minors on Campus|             Requirements for conducting an activity or program with Minor participants|                   Office of Risk Management and the Office of Compliance|                         null|I. Applicability This policy applies to any programs, activities, or events on Campus, whether sp...|                                                                                                null|148_4.txt|\n",
            "|     Texas Christian University Policy|                                                 Duty to Report Suspected Child Abuse|                  Reporting requirements pertaining to suspected child abuse or neglect|                                                          Human Resources|                        6.080|I. Applicability This policy is applicable to all employees of Texas Christian University. II. Po...|                                                                                                null|134_1.txt|\n",
            "|     Texas Christian University Policy|                                                         Corporate Credit Card Policy|            Authorization and issuance of corporate credit card to university employees|                                               Finance and Administration|                         null|I.      Applicability This policy applies to all employees issued a TCU corporate credit card, or...|                                                                                                null|172_0.txt|\n",
            "|     Texas Christian University Policy|                                                              Performance Evaluations|                                   Requirements associated with performance evaluations|                                                          Human Resources|                        2.010|I. Applicability This policy applies to all employees of Texas Christian University. II. Policy S...|                                                                                                null| 34_0.txt|\n",
            "+--------------------------------------+-------------------------------------------------------------------------------------+---------------------------------------------------------------------------------------+-------------------------------------------------------------------------+-----------------------------+----------------------------------------------------------------------------------------------------+----------------------------------------------------------------------------------------------------+---------+\n",
            "\n"
          ]
        }
      ]
    },
    {
      "cell_type": "code",
      "source": [
        "%cd /content/dataaa.csv\n",
        "%cd /content\n",
        "%ls\n",
        "%rm -r data.csv"
      ],
      "metadata": {
        "colab": {
          "base_uri": "https://localhost:8080/"
        },
        "id": "ke8W3ipJmAwV",
        "outputId": "48ab919f-b8a1-4225-f448-332f4f6f2e87"
      },
      "execution_count": 47,
      "outputs": [
        {
          "output_type": "stream",
          "name": "stdout",
          "text": [
            "[Errno 2] No such file or directory: '/content/dataaa.csv'\n",
            "/content\n",
            "/content\n",
            "create_dataframe.py  \u001b[0m\u001b[01;34mdrive\u001b[0m/        \u001b[01;34mspark-3.3.1-bin-hadoop3\u001b[0m/     \u001b[01;34mTCU\u001b[0m/     xf.zip\n",
            "\u001b[01;34mdata.csv\u001b[0m/            \u001b[01;34msample_data\u001b[0m/  spark-3.3.1-bin-hadoop3.tgz  TCU.zip\n"
          ]
        }
      ]
    }
  ]
}